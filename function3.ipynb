{
 "cells": [
  {
   "cell_type": "code",
   "execution_count": 2,
   "metadata": {},
   "outputs": [
    {
     "name": "stderr",
     "output_type": "stream",
     "text": [
      "/opt/anaconda3/envs/myenv/lib/python3.12/site-packages/tqdm/auto.py:21: TqdmWarning: IProgress not found. Please update jupyter and ipywidgets. See https://ipywidgets.readthedocs.io/en/stable/user_install.html\n",
      "  from .autonotebook import tqdm as notebook_tqdm\n"
     ]
    },
    {
     "name": "stdout",
     "output_type": "stream",
     "text": [
      "\n",
      "사용자: 갤럭시 S24 판매 중인가요?\n",
      "\n",
      "사용자: 가격은 어떻게 되나요?\n",
      "\n",
      "사용자: 서울시 종로구 종로1가 1번지로 배송부탁드립니다\n",
      "모델: 주문 완료되었습니다. \n",
      "\n"
     ]
    }
   ],
   "source": [
    "import os\n",
    "import google.generativeai as genai\n",
    "import google.ai.generativelanguage as glm\n",
    "\n",
    "genai.configure(api_key=os.getenv(\"GOOGLE_API_KEY\"))\n",
    "\n",
    "prod_database = { \n",
    "    \"갤럭시 S24\": {\"재고\": 10, \"가격\": 1_700_000}, \n",
    "    \"갤럭시 S23\": {\"재고\": 5, \"가격\": 1_300_000}, \n",
    "    \"갤럭시 S22\": {\"재고\": 3, \"가격\": 1_100_000}, \n",
    "} \n",
    "\n",
    "def is_product_available(product_name: str)-> bool: \n",
    "    \"\"\"특정 제품의 재고가 있는지 확인한다.\n",
    "\n",
    "    Args:\n",
    "        product_name: 제품명\n",
    "    \"\"\"\n",
    "\n",
    "    if product_name in prod_database: \n",
    "        if prod_database[product_name][\"재고\"] > 0: \n",
    "            return True \n",
    "    return False \n",
    "\n",
    "def get_product_price(product_name: str)-> int: \n",
    "    \"\"\"제품의 가격을 가져온다.\n",
    "\n",
    "    Args:\n",
    "        product_name: 제품명\n",
    "    \"\"\"\n",
    "    if product_name in prod_database: \n",
    "        return prod_database[product_name][\"가격\"] \n",
    "    return None \n",
    "\n",
    "def place_order(product_name: str, address: str)-> str: \n",
    "    \"\"\"제품 주문결과를 반환한다.\n",
    "    Args:\n",
    "        product_name: 제품명\n",
    "        address: 배송지\n",
    "    \"\"\"\n",
    "    if is_product_available(product_name): \n",
    "        prod_database[product_name][\"재고\"] -= 1 \n",
    "        return \"주문 완료\" \n",
    "    else: \n",
    "        return \"재고 부족으로 주문 불가\" \n",
    "\n",
    "function_repoistory = {     \n",
    "    \"is_product_available\": is_product_available, \n",
    "    \"get_product_price\": get_product_price, \n",
    "    \"place_order\": place_order \n",
    "} \n",
    "\n",
    "def correct_response(response): \n",
    "    part = response.candidates[0].content.parts[0] \n",
    "    if part.function_call: \n",
    "        for k, v in part.function_call.args.items(): \n",
    "            byte_v = bytes(v, \"utf-8\").decode(\"unicode_escape\") \n",
    "            corrected_v = bytes(byte_v, \"latin1\").decode(\"utf-8\") \n",
    "            part.function_call.args.update({k:  corrected_v}) \n",
    "\n",
    "\n",
    "model = genai.GenerativeModel(\n",
    "    model_name=\"gemini-1.5-flash\", \n",
    "    tools=function_repoistory.values()\n",
    ")\n",
    "\n",
    "chat_session = model.start_chat(history=[])\n",
    "queries = [\"갤럭시 S24 판매 중인가요?\", \"가격은 어떻게 되나요?\", \"서울시 종로구 종로1가 1번지로 배송부탁드립니다\"]             \n",
    "\n",
    "for query in queries: \n",
    "    print(f\"\\n사용자: {query}\")     \n",
    "    response = chat_session.send_message(query) \n",
    "    correct_response(response) \n",
    "    part = response.candidates[0].content.parts[0] \n",
    "\n",
    "    if part.function_call: \n",
    "        function_call =  part.function_call \n",
    "        function_name = function_call.name \n",
    "        function_args = {k: v for k, v in function_call.args.items()} \n",
    "        function_result = function_repoistory[function_name](**function_args) \n",
    "        \n",
    "part = glm.Part(\n",
    "                function_response=glm.FunctionResponse(\n",
    "                    name=function_name, \n",
    "                    response={ \n",
    "                        \"content\": function_result, \n",
    "                    }, \n",
    "                )\n",
    "            )\n",
    "\n",
    "response = chat_session.send_message(part)\n",
    "\n",
    "\n",
    "print(f\"모델: {response.candidates[0].content.parts[0].text}\")\n"
   ]
  },
  {
   "cell_type": "code",
   "execution_count": 6,
   "metadata": {},
   "outputs": [
    {
     "data": {
      "text/plain": [
       "content {\n",
       "  parts {\n",
       "    text: \"주문 완료되었습니다. \\n\"\n",
       "  }\n",
       "  role: \"model\"\n",
       "}\n",
       "finish_reason: STOP\n",
       "index: 0\n",
       "safety_ratings {\n",
       "  category: HARM_CATEGORY_SEXUALLY_EXPLICIT\n",
       "  probability: NEGLIGIBLE\n",
       "}\n",
       "safety_ratings {\n",
       "  category: HARM_CATEGORY_HATE_SPEECH\n",
       "  probability: NEGLIGIBLE\n",
       "}\n",
       "safety_ratings {\n",
       "  category: HARM_CATEGORY_HARASSMENT\n",
       "  probability: NEGLIGIBLE\n",
       "}\n",
       "safety_ratings {\n",
       "  category: HARM_CATEGORY_DANGEROUS_CONTENT\n",
       "  probability: NEGLIGIBLE\n",
       "}"
      ]
     },
     "execution_count": 6,
     "metadata": {},
     "output_type": "execute_result"
    }
   ],
   "source": [
    "response.candidates[0]"
   ]
  },
  {
   "cell_type": "code",
   "execution_count": null,
   "metadata": {},
   "outputs": [],
   "source": []
  }
 ],
 "metadata": {
  "kernelspec": {
   "display_name": "myenv",
   "language": "python",
   "name": "python3"
  },
  "language_info": {
   "codemirror_mode": {
    "name": "ipython",
    "version": 3
   },
   "file_extension": ".py",
   "mimetype": "text/x-python",
   "name": "python",
   "nbconvert_exporter": "python",
   "pygments_lexer": "ipython3",
   "version": "3.12.6"
  }
 },
 "nbformat": 4,
 "nbformat_minor": 2
}
