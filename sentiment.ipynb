{
 "cells": [
  {
   "cell_type": "code",
   "execution_count": 5,
   "metadata": {},
   "outputs": [
    {
     "name": "stdout",
     "output_type": "stream",
     "text": [
      "Here's a breakdown of the sentiment analysis for the tweets:\n",
      "\n",
      "**1. \"It's so beautiful today!\"** \n",
      "\n",
      "* **Sentiment:** POSITIVE \n",
      "* **Reason:** The phrase \"so beautiful\" clearly expresses a positive feeling about the day.\n",
      "\n",
      "**2. \"It's so cold today I can't feel my feet...\"**\n",
      "\n",
      "* **Sentiment:** NEGATIVE\n",
      "* **Reason:**  The words \"cold\" and \"can't feel\" indicate a negative experience. \n",
      "\n",
      "**3. \"The weather today is perfectly adequate.\"**\n",
      "\n",
      "* **Sentiment:** NEUTRAL\n",
      "* **Reason:**  \"Perfectly adequate\" is a neutral statement. It doesn't express strong positive or negative feelings about the weather. \n",
      "\n"
     ]
    }
   ],
   "source": [
    "import os\n",
    "import google.generativeai as genai\n",
    "\n",
    "key_path = '/Users/jaesolshin/key/gemini_key.txt'\n",
    "apikey = open(key_path, 'r', encoding='utf-8').read()\n",
    "genai.configure(api_key=apikey)\n",
    "\n",
    "# Create the model\n",
    "generation_config = {\n",
    "  \"temperature\": 1,\n",
    "  \"top_p\": 0.95,\n",
    "  \"top_k\": 64,\n",
    "  \"max_output_tokens\": 8192,\n",
    "  \"response_mime_type\": \"text/plain\",\n",
    "}\n",
    "\n",
    "model = genai.GenerativeModel(\n",
    "  model_name=\"gemini-1.5-flash\",\n",
    "  generation_config=generation_config,\n",
    "  # safety_settings = Adjust safety settings\n",
    "  # See https://ai.google.dev/gemini-api/docs/safety-settings\n",
    ")\n",
    "\n",
    "chat_session = model.start_chat(\n",
    "  history=[\n",
    "    {\n",
    "      \"role\": \"user\",\n",
    "      \"parts\": [\n",
    "        \"Analyze the sentiment of the following Tweets and classify them as POSITIVE, NEGATIVE, or NEUTRAL.\",\n",
    "        \"\\\"It's so beautiful today!\\\"\",\n",
    "        \"\\\"It's so cold today I can't feel my feet...\\\"\",\n",
    "        \"\\\"The weather today is perfectly adequate.\\\"\",\n",
    "      ],\n",
    "    },\n",
    "  ]\n",
    ")\n",
    "\n",
    "response = chat_session.send_message(\"INSERT_INPUT_HERE\")\n",
    "\n",
    "print(response.text)"
   ]
  }
 ],
 "metadata": {
  "kernelspec": {
   "display_name": "myenv",
   "language": "python",
   "name": "python3"
  },
  "language_info": {
   "codemirror_mode": {
    "name": "ipython",
    "version": 3
   },
   "file_extension": ".py",
   "mimetype": "text/x-python",
   "name": "python",
   "nbconvert_exporter": "python",
   "pygments_lexer": "ipython3",
   "version": "3.12.6"
  }
 },
 "nbformat": 4,
 "nbformat_minor": 2
}
