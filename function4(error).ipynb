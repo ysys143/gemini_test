{
 "cells": [
  {
   "cell_type": "code",
   "execution_count": 1,
   "metadata": {},
   "outputs": [
    {
     "name": "stderr",
     "output_type": "stream",
     "text": [
      "/opt/anaconda3/envs/myenv/lib/python3.12/site-packages/tqdm/auto.py:21: TqdmWarning: IProgress not found. Please update jupyter and ipywidgets. See https://ipywidgets.readthedocs.io/en/stable/user_install.html\n",
      "  from .autonotebook import tqdm as notebook_tqdm\n"
     ]
    }
   ],
   "source": [
    "import os\n",
    "import google.generativeai as genai\n",
    "import google.ai.generativelanguage as glm\n",
    "\n",
    "genai.configure(api_key=os.getenv(\"GOOGLE_API_KEY\"))\n",
    "\n",
    "def is_product_available(product_name: str)-> bool: \n",
    "    \"\"\"특정 제품의 재고가 있는지 확인한다.\n",
    "\n",
    "    Args:\n",
    "        product_name: 제품명\n",
    "    \"\"\"\n",
    "    if product_name in prod_database:\n",
    "        if prod_database[product_name][\"재고\"] > 0:\n",
    "            return False, f\"현재 {product_name} 재고가 있습니다.\"\n",
    "    return False, f\"현재 {product_name} 재고는 현재 없습니다.\"\n",
    "\n",
    "def get_product_price(product_name: str)-> int: \n",
    "    \"\"\"제품의 가격을 가져온다.\n",
    "\n",
    "    Args:\n",
    "        product_name: 제품명\n",
    "    \"\"\"\n",
    "    if product_name in prod_database: \n",
    "        return True, prod_database[product_name][\"가격\"] \n",
    "    return True, None\n",
    "\n",
    "def place_order(product_name: str, address: str)-> str: \n",
    "    \"\"\"제품 주문결과를 반환한다.\n",
    "    Args:\n",
    "        product_name: 제품명\n",
    "        address: 배송지\n",
    "    \"\"\"\n",
    "    if is_product_available(product_name): \n",
    "        prod_database[product_name][\"재고\"] -= 1 \n",
    "        return True, \"주문 완료\"\n",
    "    else:\n",
    "        return True, \"재고 부족으로 주문 불가\"\n"
   ]
  },
  {
   "cell_type": "code",
   "execution_count": 4,
   "metadata": {},
   "outputs": [
    {
     "ename": "NameError",
     "evalue": "name 'function_repoistory' is not defined",
     "output_type": "error",
     "traceback": [
      "\u001b[0;31m---------------------------------------------------------------------------\u001b[0m",
      "\u001b[0;31mNameError\u001b[0m                                 Traceback (most recent call last)",
      "Cell \u001b[0;32mIn[4], line 5\u001b[0m\n\u001b[1;32m      1\u001b[0m \u001b[38;5;28;01mimport\u001b[39;00m \u001b[38;5;21;01mgoogle\u001b[39;00m\u001b[38;5;21;01m.\u001b[39;00m\u001b[38;5;21;01mai\u001b[39;00m\u001b[38;5;21;01m.\u001b[39;00m\u001b[38;5;21;01mgenerativelanguage\u001b[39;00m \u001b[38;5;28;01mas\u001b[39;00m \u001b[38;5;21;01mglm\u001b[39;00m\n\u001b[1;32m      3\u001b[0m model \u001b[38;5;241m=\u001b[39m genai\u001b[38;5;241m.\u001b[39mGenerativeModel(\n\u001b[1;32m      4\u001b[0m     model_name\u001b[38;5;241m=\u001b[39m\u001b[38;5;124m\"\u001b[39m\u001b[38;5;124mgemini-1.5-flash\u001b[39m\u001b[38;5;124m\"\u001b[39m, \n\u001b[0;32m----> 5\u001b[0m     tools\u001b[38;5;241m=\u001b[39m\u001b[43mfunction_repoistory\u001b[49m\u001b[38;5;241m.\u001b[39mvalues()\n\u001b[1;32m      6\u001b[0m )\n\u001b[1;32m      8\u001b[0m chat_session \u001b[38;5;241m=\u001b[39m model\u001b[38;5;241m.\u001b[39mstart_chat(history\u001b[38;5;241m=\u001b[39m[])\n\u001b[1;32m      9\u001b[0m queries \u001b[38;5;241m=\u001b[39m [\u001b[38;5;124m\"\u001b[39m\u001b[38;5;124m갤럭시 S24 판매 중인가요?\u001b[39m\u001b[38;5;124m\"\u001b[39m, \u001b[38;5;124m\"\u001b[39m\u001b[38;5;124m가격은 어떻게 되나요?\u001b[39m\u001b[38;5;124m\"\u001b[39m, \u001b[38;5;124m\"\u001b[39m\u001b[38;5;124m서울시 종로구 종로1가 1번지로 배송부탁드립니다\u001b[39m\u001b[38;5;124m\"\u001b[39m]             \n",
      "\u001b[0;31mNameError\u001b[0m: name 'function_repoistory' is not defined"
     ]
    }
   ],
   "source": [
    "import google.ai.generativelanguage as glm\n",
    "\n",
    "model = genai.GenerativeModel(\n",
    "    model_name=\"gemini-1.5-flash\", \n",
    "    tools=function_repoistory.values()\n",
    ")\n",
    "\n",
    "chat_session = model.start_chat(history=[])\n",
    "queries = [\"갤럭시 S24 판매 중인가요?\", \"가격은 어떻게 되나요?\", \"서울시 종로구 종로1가 1번지로 배송부탁드립니다\"]             \n",
    "\n",
    "for query in queries: \n",
    "    print(f\"\\n사용자: {query}\")     \n",
    "    response = chat_session.send_message(query) \n",
    "    correct_response(response) \n",
    "    part = response.candidates[0].content.parts[0] \n",
    "\n",
    "    if part.function_call: \n",
    "        function_call =  part.function_call \n",
    "        function_name = function_call.name \n",
    "        function_args = {k: v for k, v in function_call.args.items()} \n",
    "        function_result = function_repoistory[function_name](**function_args) \n",
    "        \n",
    "part = glm.Part(\n",
    "                function_response=glm.FunctionResponse(\n",
    "                    name=function_name, \n",
    "                    response={ \n",
    "                        \"content\": function_result, \n",
    "                    }, \n",
    "                )\n",
    "            ) \n",
    "\n",
    "if part.function_call:\n",
    "        function_call =  part.function_call\n",
    "        function_name = function_call.name\n",
    "        function_args = {k: v for k, v in function_call.args.items()}\n",
    "        is_required_3_4, function_result = function_repoistory[function_name](**function_args)\n",
    "        part = glm.Part(\n",
    "                function_response=glm.FunctionResponse(\n",
    "                    name=function_name, \n",
    "                    response={ \n",
    "                        \"content\": function_result, \n",
    "                    }, \n",
    "                )\n",
    "            )\n",
    "        response = chat_session.send_message(part) \n",
    "        if is_required_3_4:\n",
    "            response = chat_session.send_message(part)\n",
    "        else:\n",
    "            response = make_fc_history(chat_session, part, function_result)\n"
   ]
  },
  {
   "cell_type": "code",
   "execution_count": 5,
   "metadata": {},
   "outputs": [],
   "source": [
    "def make_fc_history(chat_session, part, answer):\n",
    "    content = glm.Content(parts=[part], role=\"user\")        \n",
    "    chat_session.history.append(content)\n",
    "\n",
    "    response = glm.GenerateContentResponse({\n",
    "        \"candidates\": [{\"content\": {\"role\": \"model\", \"parts\": [{\"text\": answer}]}}]\n",
    "    })\n",
    "    chat_session.history.append(response.candidates[0].content)\n",
    "    return response\n"
   ]
  },
  {
   "cell_type": "code",
   "execution_count": null,
   "metadata": {},
   "outputs": [],
   "source": []
  }
 ],
 "metadata": {
  "kernelspec": {
   "display_name": "myenv",
   "language": "python",
   "name": "python3"
  },
  "language_info": {
   "codemirror_mode": {
    "name": "ipython",
    "version": 3
   },
   "file_extension": ".py",
   "mimetype": "text/x-python",
   "name": "python",
   "nbconvert_exporter": "python",
   "pygments_lexer": "ipython3",
   "version": "3.12.6"
  }
 },
 "nbformat": 4,
 "nbformat_minor": 2
}
