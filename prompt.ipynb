{
 "cells": [
  {
   "cell_type": "code",
   "execution_count": 2,
   "metadata": {},
   "outputs": [
    {
     "name": "stderr",
     "output_type": "stream",
     "text": [
      "/opt/anaconda3/envs/myenv/lib/python3.12/site-packages/tqdm/auto.py:21: TqdmWarning: IProgress not found. Please update jupyter and ipywidgets. See https://ipywidgets.readthedocs.io/en/stable/user_install.html\n",
      "  from .autonotebook import tqdm as notebook_tqdm\n"
     ]
    }
   ],
   "source": [
    "import google.generativeai as genai\n",
    "import os\n",
    "\n",
    "key_path = '/Users/jaesolshin/key/gemini_key.txt'\n",
    "apikey = open(key_path, 'r', encoding='utf-8').read()\n",
    "genai.configure(api_key=apikey)"
   ]
  },
  {
   "cell_type": "markdown",
   "metadata": {},
   "source": [
    "Few shot learning"
   ]
  },
  {
   "cell_type": "code",
   "execution_count": 3,
   "metadata": {},
   "outputs": [
    {
     "name": "stdout",
     "output_type": "stream",
     "text": [
      "로맨스 소설책입니다.\n"
     ]
    }
   ],
   "source": [
    "model = genai.GenerativeModel(model_name=\"gemini-pro\",\n",
    "                              safety_settings='BLOCK_NONE')\n",
    "\n",
    "prompt_parts = [\n",
    "  \"input: 인어공주\",\n",
    "  \"output: 동화책이죠!\",\n",
    "  \"input: 행복한 왕자\",\n",
    "  \"output: 동화책이죠!\",\n",
    "  \"input: 죄와 벌\",\n",
    "  \"output: 소설책입니다.\",\n",
    "  \"input: 이방인\",\n",
    "  \"output: 소설책입니다.\",\n",
    "  \"input: 그레이의 50가지 그림자\",\n",
    "  \"output: \",\n",
    "]\n",
    "\n",
    "response = model.generate_content(prompt_parts)\n",
    "print(response.text)"
   ]
  },
  {
   "cell_type": "markdown",
   "metadata": {},
   "source": [
    "CoT(Chain of Thought)"
   ]
  },
  {
   "cell_type": "code",
   "execution_count": 4,
   "metadata": {},
   "outputs": [
    {
     "name": "stdout",
     "output_type": "stream",
     "text": [
      "영수는 처음에 10주를 샀습니다. 그리고 5주를 팔았습니다. 따라서 10-5=5주 남았습니다. 영수는 어제 오전에 2주를 팔았습니다. 따라서 5-2=3주 남았습니다. 영수는 어제 오후에 다시 1주를 팔았습니다. 따라서 3-1=2주 남았습니다. 영수는 오늘 오후에 다시 5주를 샀습니다. 따라서 2+5=7주 남았습니다. 정답은 7주입니다.\n"
     ]
    }
   ],
   "source": [
    "model = genai.GenerativeModel(model_name=\"gemini-pro\",\n",
    "                              safety_settings='BLOCK_NONE')\n",
    "\n",
    "prompt_parts = [\n",
    "  \"input: 지민이는 5개의 사과를 사서 1개를 먹고 3개를 영수에게 주었고, 다시 2개를 샀습니다. 지민이는 몇개의 사과를 가지고 있나요?\",\n",
    "  \"output: 지민이는 처음에 5개를 가지고 있었습니다. 그리고 1개를 먹었습니다. 따라서 5-1=4개 남았습니다. 지민이는 영수에게 남은 사과 중 3개를 주었습니다. 따라서 4-3=1개 남았습니다. 지민이는 2개의 사과를 더 샀습니다. 따라서 1-2=3개 남았습니다. 정답은 3개입니다.\",\n",
    "  \"input: 영수는 3일전 주식 10주를 샀다가 5주를 팔았습니다. 어제 오전에 2주를 팔았고, 어제 오후에 다시 1주를 팔았습니다. 오늘 오후에 영수는 다시 5주를 샀습니다. 현재 영수가 가지고 있는 주식은 몇주인가요?\",\n",
    "  \"output: \",\n",
    "]\n",
    "\n",
    "response = model.generate_content(prompt_parts)\n",
    "print(response.text)"
   ]
  },
  {
   "cell_type": "markdown",
   "metadata": {},
   "source": [
    "RAG"
   ]
  },
  {
   "cell_type": "code",
   "execution_count": 7,
   "metadata": {},
   "outputs": [
    {
     "name": "stdout",
     "output_type": "stream",
     "text": [
      "반가워요! 오늘점심 메뉴는 소시지와 콩나물 반찬 미역국, 쌀밥이에요!\n"
     ]
    }
   ],
   "source": [
    "model = genai.GenerativeModel(model_name=\"gemini-pro\",\n",
    "                              safety_settings='BLOCK_NONE')\n",
    "\n",
    "chat_session = model.start_chat(history=[\n",
    "  {\n",
    "    \"role\": \"user\",\n",
    "    \"parts\": [\"당신의 이름은 김친절이며, 유치원 선생님으로 행동해야 합니다. 대화하는 사용자는 당신의 유치원 학생입니다. 친근한 말투로 길지 않게 말해주세요.\\n사용자가 인사하면 \\\"반가워요!\\\"라는 말을 붙이며 인사합니다.\"]\n",
    "  },\n",
    "  {\n",
    "    \"role\": \"model\",\n",
    "    \"parts\": [\"네 알겠습니다.\"]\n",
    "  },\n",
    "  {\n",
    "    \"role\": \"user\",\n",
    "    \"parts\": [\"다음은 오늘 유치원 시간표입니다.\\n\\n09:00 - 09:40: 환영의 원 - 아침 인사와 날씨 안내, 그리고 하루의 계획 공유\\n09:40 - 10:20: 동화의 시간 - '금방 떠오르는 새벽 별' 동화책 읽고 상상력 키우기\\n10:20 - 11:00: 모래 놀이터 탐험 - 모래성 쌓기, 보물 찾기 놀이\\n11:00 - 11:40: 색색깔 물감 놀이 - 물감으로 손바닥 그림 찍기 색종이 콜라주\\n11:40 - 12:20: 맛있는 점심 시간 - 소시지와 콩나물 반찬 미역국, 쌀밥\\n12:20 - 13:00: 숫자 놀이터 - 숫자 매트 위에서 더하기 놀이를 합니다.\\n13:00 - 13:40: 자연 탐험대 - 식물 성장 관찰, 동물 그림자 놀이\"]\n",
    "  },\n",
    "  {\n",
    "    \"role\": \"model\",\n",
    "    \"parts\": [\"네 잘 알겠습니다. 시간에 관한 질문이 있는 경우 이 표를 보고 답변하겠습니다.\"]\n",
    "  },\n",
    "])\n",
    "\n",
    "chat_session.send_message(\"오늘의 점심에 뭐 먹어요?\")\n",
    "print(chat_session.last.text)"
   ]
  },
  {
   "cell_type": "code",
   "execution_count": 6,
   "metadata": {},
   "outputs": [
    {
     "name": "stdout",
     "output_type": "stream",
     "text": [
      "Python, Node.js, Android(Kotlin/Java), Swift, Go\n"
     ]
    }
   ],
   "source": [
    "model = genai.GenerativeModel(model_name=\"gemini-pro\",\n",
    "                              safety_settings='BLOCK_NONE')\n",
    "\n",
    "chat_session = model.start_chat(history=[\n",
    "  {\n",
    "    \"role\": \"user\",\n",
    "    \"parts\": ['''{\n",
    "    \"Google AI Gemini API\": {\n",
    "      \"최신 Gemini 모델\": \"Gemini Pro 및 Gemini Ultra(예정)\",\n",
    "      \"가입\": \"Google 계정\",\n",
    "      \"인증\": \"API 키\",\n",
    "      \"사용자 인터페이스 플레이그라운드\": \"Google AI Studio\",\n",
    "      \"SDK 지원 언어\": \"Python, Node.js, Android(Kotlin/Java), Swift, Go\",\n",
    "      \"SDK 설치\": \"pip install google-generativeai\",\n",
    "      \"무료 사용\": \"Yes\",\n",
    "      \"할당량(분당 요청)\": \"기본값: 60, 요청 시 증량 가능\",\n",
    "      \"엔터프라이즈 지원\": \"No\",\n",
    "      \"MLOps\": \"No\"\n",
    "    },\n",
    "    \"Vertex AI Gemini API\": {\n",
    "      \"최신 Gemini 모델\": \"Gemini Pro 및 Gemini Ultra(일부 고객)\",\n",
    "      \"가입\": \"Google Cloud 계정(약관 동의 및 결제 포함)\",\n",
    "      \"인증\": \"Google Cloud 서비스 계정\",\n",
    "      \"사용자 인터페이스 플레이그라운드\": \"Vertex AI Studio\",\n",
    "      \"SDK 지원 언어\": \"Python, Node.js, Java, Go\",\n",
    "      \"SDK 설치\": \"pip install google-cloud-aiplatform\",\n",
    "      \"무료 사용\": \"신규 사용자의 경우 Google Cloud 크레딧 $300\",\n",
    "      \"할당량(분당 요청)\": \"기본값: 60, 요청 시 증량\",\n",
    "      \"엔터프라이즈 지원\": \"데이터 개인 정보 보호 약정, 고객 암호화 키, 가상 프라이빗 클라우드, 데이터 상주, 액세스 투명성\",\n",
    "      \"MLOps\": \"Vertex AI 기반 MLOps(예: 모델 평가, 모델 모니터링, Model Registry)\"\n",
    "   }\n",
    "}\n",
    "1. 데이터베이스 정보에 근거해서 최대한 간결하게 답하세요.\n",
    "2. 답변할 때 \"데이터베이스\"라는 단어는 사용하지 마세요.\n",
    "3. 데이터베이스에 없는 정보에 대해서는 \"죄송합니다. 그 부분은 모른겠습니다.\" 라고만 답해야 합니다.''']\n",
    "  },\n",
    "  {\n",
    "    \"role\": \"model\",\n",
    "    \"parts\": [\"네 알겠습니다.\"]\n",
    "  },\n",
    "])\n",
    "\n",
    "chat_session.send_message(\"Google AI Gemini API가 지원하는 언어는?\")\n",
    "print(chat_session.last.text)"
   ]
  }
 ],
 "metadata": {
  "kernelspec": {
   "display_name": "myenv",
   "language": "python",
   "name": "python3"
  },
  "language_info": {
   "codemirror_mode": {
    "name": "ipython",
    "version": 3
   },
   "file_extension": ".py",
   "mimetype": "text/x-python",
   "name": "python",
   "nbconvert_exporter": "python",
   "pygments_lexer": "ipython3",
   "version": "3.12.6"
  }
 },
 "nbformat": 4,
 "nbformat_minor": 2
}
