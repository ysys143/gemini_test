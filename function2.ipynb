{
 "cells": [
  {
   "cell_type": "code",
   "execution_count": 2,
   "metadata": {},
   "outputs": [
    {
     "name": "stderr",
     "output_type": "stream",
     "text": [
      "/opt/anaconda3/envs/myenv/lib/python3.12/site-packages/tqdm/auto.py:21: TqdmWarning: IProgress not found. Please update jupyter and ipywidgets. See https://ipywidgets.readthedocs.io/en/stable/user_install.html\n",
      "  from .autonotebook import tqdm as notebook_tqdm\n"
     ]
    }
   ],
   "source": [
    "import os\n",
    "import google.generativeai as genai\n",
    "\n",
    "genai.configure(api_key=os.getenv(\"GOOGLE_API_KEY\"))"
   ]
  },
  {
   "cell_type": "code",
   "execution_count": 3,
   "metadata": {},
   "outputs": [],
   "source": [
    "prod_database = { \n",
    "    \"갤럭시 S24\": {\"재고\": 10, \"가격\": 1_700_000}, \n",
    "    \"갤럭시 S23\": {\"재고\": 5, \"가격\": 1_300_000}, \n",
    "    \"갤럭시 S22\": {\"재고\": 3, \"가격\": 1_100_000}, \n",
    "} \n",
    "\n",
    "\n",
    "def is_product_available(product_name: str)-> bool: \n",
    "    \"\"\"특정 제품의 재고가 있는지 확인한다.\n",
    "\n",
    "    Args:\n",
    "        product_name: 제품명\n",
    "    \"\"\"    \n",
    "    if product_name in prod_database: \n",
    "        if prod_database[product_name][\"재고\"] > 0: \n",
    "            return True \n",
    "    return False \n",
    "\n",
    "def get_product_price(product_name: str)-> int:\n",
    "    \"\"\"제품의 가격을 가져온다.\n",
    "\n",
    "    Args:\n",
    "        product_name: 제품명\n",
    "    \"\"\"\n",
    "    if product_name in prod_database: \n",
    "        return prod_database[product_name][\"가격\"] \n",
    "    return None \n",
    "\n",
    "def place_order(product_name: str, address: str)-> str: \n",
    "    \"\"\"제품 주문결과를 반환한다.\n",
    "    Args:\n",
    "        product_name: 제품명\n",
    "        address: 배송지\n",
    "    \"\"\"\n",
    "    if is_product_available(product_name): \n",
    "        prod_database[product_name][\"재고\"] -= 1 \n",
    "        return \"주문 완료\" \n",
    "    else: \n",
    "        return \"재고 부족으로 주문 불가\" \n"
   ]
  },
  {
   "cell_type": "code",
   "execution_count": 4,
   "metadata": {},
   "outputs": [],
   "source": [
    "# 모델이 JSON 문자열로 알려준 함수와 실제 함수를 연결하기 위한 매핑 정보\n",
    "function_repoistory = {\n",
    "    \"is_product_available\": is_product_available,\n",
    "    \"get_product_price\": get_product_price,\n",
    "    \"place_order\": place_order\n",
    "}"
   ]
  },
  {
   "cell_type": "code",
   "execution_count": 5,
   "metadata": {},
   "outputs": [],
   "source": [
    "# tools 필드에 함수 리스트를 세팅\n",
    "model = genai.GenerativeModel(\n",
    "    model_name=\"gemini-1.5-flash\", \n",
    "    tools=function_repoistory.values()\n",
    ")"
   ]
  },
  {
   "cell_type": "code",
   "execution_count": 6,
   "metadata": {},
   "outputs": [
    {
     "name": "stdout",
     "output_type": "stream",
     "text": [
      "parts {\n",
      "  function_call {\n",
      "    name: \"is_product_available\"\n",
      "    args {\n",
      "      fields {\n",
      "        key: \"product_name\"\n",
      "        value {\n",
      "          string_value: \"갤럭시 S24\"\n",
      "        }\n",
      "      }\n",
      "    }\n",
      "  }\n",
      "}\n",
      "role: \"model\"\n",
      "\n"
     ]
    }
   ],
   "source": [
    "chat_session = model.start_chat()\n",
    "prompt = \"갤럭시 S24 판매 중인가요?\"\n",
    "response = chat_session.send_message(prompt)\n",
    "print(response.candidates[0].content)"
   ]
  },
  {
   "cell_type": "code",
   "execution_count": 7,
   "metadata": {},
   "outputs": [
    {
     "name": "stdout",
     "output_type": "stream",
     "text": [
      "is_product_available args=>: {'product_name': '갤럭시 S24'}\n",
      "is_product_available result=>: True\n"
     ]
    }
   ],
   "source": [
    "part = response.candidates[0].content.parts[0]\n",
    "if part.function_call:\n",
    "    function_call =  part.function_call\n",
    "    function_name = function_call.name\n",
    "    function_args = {k: v for k, v in function_call.args.items()}\n",
    "    print(f\"{function_name} args=>: {function_args}\")\n",
    "    function_result = function_repoistory[function_name](**function_args)\n",
    "    print(f\"{function_name} result=>: {function_result}\")\n"
   ]
  },
  {
   "cell_type": "code",
   "execution_count": 16,
   "metadata": {},
   "outputs": [
    {
     "name": "stdout",
     "output_type": "stream",
     "text": [
      "function_response {\n",
      "  name: \"is_product_available\"\n",
      "  response {\n",
      "    fields {\n",
      "      key: \"content\"\n",
      "      value {\n",
      "        bool_value: true\n",
      "      }\n",
      "    }\n",
      "  }\n",
      "}\n",
      "\n",
      "-----\n",
      "parts {\n",
      "  text: \"네, 판매 중입니다. 😊 \\n\"\n",
      "}\n",
      "role: \"model\"\n",
      "\n"
     ]
    }
   ],
   "source": [
    "import google.ai.generativelanguage as glm\n",
    "\n",
    "part = glm.Part(\n",
    "    function_response=glm.FunctionResponse(\n",
    "        name=\"is_product_available\", \n",
    "        response={ \n",
    "            \"content\": function_result, \n",
    "        }, \n",
    "    )\n",
    ")\n",
    "print(part)\n",
    "response = chat_session.send_message(part)\n",
    "print(\"-----\")\n",
    "print(response.candidates[0].content)"
   ]
  },
  {
   "cell_type": "code",
   "execution_count": null,
   "metadata": {},
   "outputs": [],
   "source": []
  }
 ],
 "metadata": {
  "kernelspec": {
   "display_name": "myenv",
   "language": "python",
   "name": "python3"
  },
  "language_info": {
   "codemirror_mode": {
    "name": "ipython",
    "version": 3
   },
   "file_extension": ".py",
   "mimetype": "text/x-python",
   "name": "python",
   "nbconvert_exporter": "python",
   "pygments_lexer": "ipython3",
   "version": "3.12.6"
  }
 },
 "nbformat": 4,
 "nbformat_minor": 2
}
